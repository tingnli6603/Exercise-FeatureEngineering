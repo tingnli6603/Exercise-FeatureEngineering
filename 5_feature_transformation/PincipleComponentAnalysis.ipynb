{
 "cells": [
  {
   "cell_type": "markdown",
   "metadata": {},
   "source": [
    "# 主成分分析\n",
    "\n",
    "將所有的特徵投影到線上，投影到線上的點的離散程度要盡可能的大，該線即為最佳解。再利用所求得的特徵向量將原始特徵做轉換，轉換成新的特徵(也就是主成分)。再利用特徵值(可以解釋原始資料多少%的變異量)來決定要用多少個主成分。\n",
    "\n",
    "> PCA好處是可以降低資料維度，避免原始特徵維度過多導致Overfitting。特徵數量下降也可以提升整體模型速度。"
   ]
  },
  {
   "cell_type": "markdown",
   "metadata": {},
   "source": [
    "## 觀察鳶尾花資料集\n",
    "\n",
    "共有150筆資料，4種特徵。反應變數是3種不同的花"
   ]
  },
  {
   "cell_type": "code",
   "execution_count": 1,
   "metadata": {},
   "outputs": [],
   "source": [
    "#載入資料\n",
    "from sklearn.datasets import load_iris\n",
    "import matplotlib.pyplot as plt\n",
    "%matplotlib inline"
   ]
  },
  {
   "cell_type": "code",
   "execution_count": 2,
   "metadata": {},
   "outputs": [
    {
     "name": "stdout",
     "output_type": "stream",
     "text": [
      "['sepal length (cm)', 'sepal width (cm)', 'petal length (cm)', 'petal width (cm)']\n",
      "['setosa' 'versicolor' 'virginica']\n"
     ]
    }
   ],
   "source": [
    "iris = load_iris()\n",
    "print(iris.feature_names)\n",
    "print(iris.target_names)"
   ]
  },
  {
   "cell_type": "code",
   "execution_count": 3,
   "metadata": {},
   "outputs": [],
   "source": [
    "#建立特徵與反應變數\n",
    "iris_X, iris_y = iris.data, iris.target"
   ]
  },
  {
   "cell_type": "code",
   "execution_count": 4,
   "metadata": {},
   "outputs": [
    {
     "data": {
      "text/plain": [
       "array(['setosa', 'versicolor', 'virginica'], dtype='<U10')"
      ]
     },
     "execution_count": 4,
     "metadata": {},
     "output_type": "execute_result"
    }
   ],
   "source": [
    "#觀察反應變數的花名\n",
    "iris.target_names"
   ]
  },
  {
   "cell_type": "code",
   "execution_count": 5,
   "metadata": {},
   "outputs": [
    {
     "data": {
      "text/plain": [
       "['sepal length (cm)',\n",
       " 'sepal width (cm)',\n",
       " 'petal length (cm)',\n",
       " 'petal width (cm)']"
      ]
     },
     "execution_count": 5,
     "metadata": {},
     "output_type": "execute_result"
    }
   ],
   "source": [
    "#觀察特徵名稱\n",
    "iris.feature_names"
   ]
  },
  {
   "cell_type": "code",
   "execution_count": 6,
   "metadata": {},
   "outputs": [],
   "source": [
    "#將反應變化，花名稱轉換成label\n",
    "label_dict = {i: k for i, k in enumerate(iris.target_names)}"
   ]
  },
  {
   "cell_type": "code",
   "execution_count": 7,
   "metadata": {},
   "outputs": [],
   "source": [
    "#繪圖function\n",
    "def plot(X, y, title, x_label, y_label):\n",
    "    ax = plt.subplot(111)\n",
    "    \n",
    "    for label, marker, color in zip(range(3), ('^', 's', 'o'), ('blue', 'red', 'green')):\n",
    "        plt.scatter(x=X[:, 0].real[y == label],\n",
    "                   y=X[:,1].real[y == label],\n",
    "                   color=color,\n",
    "                   alpha=0.5,\n",
    "                   label=label_dict[label])\n",
    "        \n",
    "        plt.xlabel(x_label)\n",
    "        plt.ylabel(y_label)\n",
    "        \n",
    "        leg = plt.legend(loc='upper right', fancybox=True)\n",
    "        leg.get_frame().set_alpha(0.5)\n",
    "        plt.title(title)"
   ]
  },
  {
   "cell_type": "code",
   "execution_count": 8,
   "metadata": {},
   "outputs": [
    {
     "data": {
      "image/png": "[encoded data removed]",
      "text/plain": [
       "<Figure size 432x288 with 1 Axes>"
      ]
     },
     "metadata": {
      "needs_background": "light"
     },
     "output_type": "display_data"
    }
   ],
   "source": [
    "#其中兩個特徵為X軸與Y軸，繪製三個不同分類目標的散佈圖\n",
    "plot(iris_X, iris_y, \"Original Iris Data\", \"sepal length (cm)\", \"sepal width (cm)\")"
   ]
  },
  {
   "cell_type": "markdown",
   "metadata": {},
   "source": [
    "## 手動計算PCA\n",
    "\n",
    "__步驟如下__\n",
    "1. 建立資料集的「共變異數矩陣」\n",
    "2. 計算「共變異數矩陣」的「特徵值」(eigenvalues)\n",
    "3. 保留「前k個特徵值」(按特徵值降冪排列)\n",
    "4. 用保留的「特徵向量」(eigenvectors)轉換新的資料點"
   ]
  },
  {
   "cell_type": "markdown",
   "metadata": {},
   "source": [
    "### 1. 建立資料集的「共變異數矩陣」"
   ]
  },
  {
   "cell_type": "code",
   "execution_count": 9,
   "metadata": {},
   "outputs": [],
   "source": [
    "import numpy as np"
   ]
  },
  {
   "cell_type": "code",
   "execution_count": 10,
   "metadata": {},
   "outputs": [
    {
     "name": "stdout",
     "output_type": "stream",
     "text": [
      "[5.84333333 3.05733333 3.758      1.19933333]\n"
     ]
    }
   ],
   "source": [
    "#計算平均值向量，四個特徵各自的平均值\n",
    "mean_vector = iris_X.mean(axis=0)\n",
    "print(mean_vector)"
   ]
  },
  {
   "cell_type": "code",
   "execution_count": 11,
   "metadata": {},
   "outputs": [
    {
     "name": "stdout",
     "output_type": "stream",
     "text": [
      "[[ 0.68569351 -0.042434    1.27431544  0.51627069]\n",
      " [-0.042434    0.18997942 -0.32965638 -0.12163937]\n",
      " [ 1.27431544 -0.32965638  3.11627785  1.2956094 ]\n",
      " [ 0.51627069 -0.12163937  1.2956094   0.58100626]]\n",
      "(4, 4)\n"
     ]
    }
   ],
   "source": [
    "#計算共變異數矩陣(covariance matrix)\n",
    "cov_mat = np.cov((iris_X).T)\n",
    "print(cov_mat)\n",
    "print(cov_mat.shape)"
   ]
  },
  {
   "cell_type": "markdown",
   "metadata": {},
   "source": [
    "### 2. 計算「共變異數矩陣」的「特徵值」(eigenvalues)\n",
    "\n",
    ">所求出的特徵向量(eigenvector)其實就是W，而特徵值(eigenvalue)則表示這一個特徵向量轉換後的資料z(主成分)可以解釋原始特徵多少，能解釋越多表示該主成分越好。\n",
    "\n",
    "numpy可以根據共變異數矩陣計算出特徵向量與特徵值"
   ]
  },
  {
   "cell_type": "code",
   "execution_count": 12,
   "metadata": {},
   "outputs": [
    {
     "name": "stdout",
     "output_type": "stream",
     "text": [
      "[4.22824171 0.24267075 0.0782095  0.02383509]\n",
      "[[ 0.36138659 -0.65658877 -0.58202985  0.31548719]\n",
      " [-0.08452251 -0.73016143  0.59791083 -0.3197231 ]\n",
      " [ 0.85667061  0.17337266  0.07623608 -0.47983899]\n",
      " [ 0.3582892   0.07548102  0.54583143  0.75365743]]\n"
     ]
    }
   ],
   "source": [
    "#numpy可以直接計算特徵向量與特徵值\n",
    "eig_val_cov, eig_vec_cov = np.linalg.eig(cov_mat)\n",
    "print(eig_val_cov)\n",
    "print(eig_vec_cov)"
   ]
  },
  {
   "cell_type": "code",
   "execution_count": 13,
   "metadata": {},
   "outputs": [
    {
     "name": "stdout",
     "output_type": "stream",
     "text": [
      "Eigenvector 1: \n",
      "[ 0.36138659 -0.08452251  0.85667061  0.3582892 ]\n",
      "Eigenvalue 1 from covariance matrix: 4.228241706034863\n",
      "------------------------------\n",
      "Eigenvector 2: \n",
      "[-0.65658877 -0.73016143  0.17337266  0.07548102]\n",
      "Eigenvalue 2 from covariance matrix: 0.2426707479286339\n",
      "------------------------------\n",
      "Eigenvector 3: \n",
      "[-0.58202985  0.59791083  0.07623608  0.54583143]\n",
      "Eigenvalue 3 from covariance matrix: 0.07820950004291913\n",
      "------------------------------\n",
      "Eigenvector 4: \n",
      "[ 0.31548719 -0.3197231  -0.47983899  0.75365743]\n",
      "Eigenvalue 4 from covariance matrix: 0.023835092973449178\n",
      "------------------------------\n"
     ]
    }
   ],
   "source": [
    "#按照降冪印出特徵向量和相對應的特徵值\n",
    "for i in range(len(eig_val_cov)):\n",
    "    eigvec_cov = eig_vec_cov[:, i]\n",
    "    print('Eigenvector {}: \\n{}'.format(i+1, eigvec_cov))\n",
    "    print('Eigenvalue {} from covariance matrix: {}'.format(i+1, eig_val_cov[i]))\n",
    "    print(30*'-')"
   ]
  },
  {
   "cell_type": "markdown",
   "metadata": {},
   "source": [
    "### 3.保留「前k個特徵值」(按特徵值降冪排列)\n",
    "\n",
    ">我們要看每一個特徵向量他能解釋所有資料的特徵值的「百分比」。這個「百分比」就表示該特徵向量轉換後的結果可以解釋整體資料的多少百分比"
   ]
  },
  {
   "cell_type": "code",
   "execution_count": 14,
   "metadata": {},
   "outputs": [
    {
     "data": {
      "text/plain": [
       "array([0.92461872, 0.05306648, 0.01710261, 0.00521218])"
      ]
     },
     "execution_count": 14,
     "metadata": {},
     "output_type": "execute_result"
    }
   ],
   "source": [
    "#每個主成分解釋的百分比是特徵值除以特徵值之和\n",
    "explained_variance_ratio = eig_val_cov/eig_val_cov.sum()\n",
    "explained_variance_ratio"
   ]
  },
  {
   "cell_type": "code",
   "execution_count": 15,
   "metadata": {},
   "outputs": [
    {
     "data": {
      "text/plain": [
       "Text(0, 0.5, '% of Variance Explained <= k')"
      ]
     },
     "execution_count": 15,
     "metadata": {},
     "output_type": "execute_result"
    },
    {
     "data": {
      "image/png": "[encoded data removed]",
      "text/plain": [
       "<Figure size 432x288 with 1 Axes>"
      ]
     },
     "metadata": {
      "needs_background": "light"
     },
     "output_type": "display_data"
    }
   ],
   "source": [
    "#利用「碎石圖」繪製主成分的百分比變化\n",
    "#np.cumsum(explained_variance_ratio)) > 逐漸增加各項數值 > [0.92461872 0.97768521 0.99478782 1.]\n",
    "plt.plot(np.cumsum(explained_variance_ratio))\n",
    "plt.title('Scree Plot')\n",
    "plt.xlabel('Pinciple Component (k)')\n",
    "plt.ylabel('% of Variance Explained <= k')"
   ]
  },
  {
   "cell_type": "markdown",
   "metadata": {},
   "source": [
    "> 可以觀察到前兩個主成分所轉換出來的資料就占原始變異數將近98%，意味著幾乎可以用「前兩個特徵向量」作為新的主成分。如此就可以將「資料集」縮小乘一半，而且保持了特徵的完整性、加速效能。 "
   ]
  },
  {
   "cell_type": "markdown",
   "metadata": {},
   "source": [
    "### 4.用保留的「特徵向量」(eigenvectors)轉換新的資料點\n",
    "將所有的資料依照我們的特徵向量做inner product，就可以得到兩個新的資料點"
   ]
  },
  {
   "cell_type": "code",
   "execution_count": 16,
   "metadata": {},
   "outputs": [
    {
     "name": "stdout",
     "output_type": "stream",
     "text": [
      "[[ 0.36138659 -0.65658877 -0.58202985  0.31548719]\n",
      " [-0.08452251 -0.73016143  0.59791083 -0.3197231 ]\n",
      " [ 0.85667061  0.17337266  0.07623608 -0.47983899]\n",
      " [ 0.3582892   0.07548102  0.54583143  0.75365743]]\n",
      "\n",
      "[[ 0.36138659 -0.08452251  0.85667061  0.3582892 ]\n",
      " [-0.65658877 -0.73016143  0.17337266  0.07548102]]\n"
     ]
    }
   ],
   "source": [
    "#保存兩個特徵向量\n",
    "print(eig_vec_cov)\n",
    "print()\n",
    "top_2_eigenvectors = eig_vec_cov[:, :2].T\n",
    "print(top_2_eigenvectors)"
   ]
  },
  {
   "cell_type": "code",
   "execution_count": 17,
   "metadata": {},
   "outputs": [
    {
     "data": {
      "text/plain": [
       "array([[ 2.81823951, -5.64634982],\n",
       "       [ 2.78822345, -5.14995135],\n",
       "       [ 2.61337456, -5.18200315],\n",
       "       [ 2.75702228, -5.0086536 ],\n",
       "       [ 2.7736486 , -5.65370709]])"
      ]
     },
     "execution_count": 17,
     "metadata": {},
     "output_type": "execute_result"
    }
   ],
   "source": [
    "#資料轉換，將150x4改變成150x2\n",
    "np.dot(iris_X, top_2_eigenvectors.T)\n",
    "\n",
    "#列出前五個\n",
    "np.dot(iris_X, top_2_eigenvectors.T)[:5,]"
   ]
  },
  {
   "cell_type": "markdown",
   "metadata": {},
   "source": [
    "## scikit-learn的PCA"
   ]
  },
  {
   "cell_type": "code",
   "execution_count": 18,
   "metadata": {},
   "outputs": [],
   "source": [
    "from sklearn.decomposition import PCA"
   ]
  },
  {
   "cell_type": "code",
   "execution_count": 19,
   "metadata": {},
   "outputs": [],
   "source": [
    "#模仿前面的操作過程，實體兩個主成分的PCA\n",
    "pca = PCA(n_components=2)"
   ]
  },
  {
   "cell_type": "code",
   "execution_count": 20,
   "metadata": {},
   "outputs": [
    {
     "data": {
      "text/plain": [
       "PCA(n_components=2)"
      ]
     },
     "execution_count": 20,
     "metadata": {},
     "output_type": "execute_result"
    }
   ],
   "source": [
    "#利用PCA擬合資料\n",
    "pca.fit(iris_X)"
   ]
  },
  {
   "cell_type": "code",
   "execution_count": 21,
   "metadata": {},
   "outputs": [
    {
     "data": {
      "text/plain": [
       "array([[ 0.36138659, -0.08452251,  0.85667061,  0.3582892 ],\n",
       "       [ 0.65658877,  0.73016143, -0.17337266, -0.07548102]])"
      ]
     },
     "execution_count": 21,
     "metadata": {},
     "output_type": "execute_result"
    }
   ],
   "source": [
    "#檢視特徵向量與之前的是否相同\n",
    "pca.components_"
   ]
  },
  {
   "cell_type": "code",
   "execution_count": 22,
   "metadata": {},
   "outputs": [
    {
     "data": {
      "text/plain": [
       "array([[-2.68412563,  0.31939725],\n",
       "       [-2.71414169, -0.17700123],\n",
       "       [-2.88899057, -0.14494943],\n",
       "       [-2.74534286, -0.31829898],\n",
       "       [-2.72871654,  0.32675451]])"
      ]
     },
     "execution_count": 22,
     "metadata": {},
     "output_type": "execute_result"
    }
   ],
   "source": [
    "#將「資料」投影到「新的二維平面」上\n",
    "pca.transform(iris_X)[:5,]"
   ]
  },
  {
   "cell_type": "markdown",
   "metadata": {},
   "source": [
    "> 這邊投影後的資料跟先前的不同，原因是scikit-learn的PCA會在「預測」時自動將資料「中心化」，進而改變結果"
   ]
  },
  {
   "cell_type": "code",
   "execution_count": 23,
   "metadata": {},
   "outputs": [
    {
     "data": {
      "text/plain": [
       "array([[-2.68412563, -0.31939725],\n",
       "       [-2.71414169,  0.17700123],\n",
       "       [-2.88899057,  0.14494943],\n",
       "       [-2.74534286,  0.31829898],\n",
       "       [-2.72871654, -0.32675451]])"
      ]
     },
     "execution_count": 23,
     "metadata": {},
     "output_type": "execute_result"
    }
   ],
   "source": [
    "#利用之前的手動作法去中心化\n",
    "#其實就是將資料先減掉平均值再去乘上特徵向量\n",
    "np.dot(iris_X-mean_vector, top_2_eigenvectors.T)[:5, ]"
   ]
  },
  {
   "cell_type": "code",
   "execution_count": 24,
   "metadata": {},
   "outputs": [
    {
     "data": {
      "image/png": "[encoded data removed]",
      "text/plain": [
       "<Figure size 432x288 with 1 Axes>"
      ]
     },
     "metadata": {
      "needs_background": "light"
     },
     "output_type": "display_data"
    },
    {
     "data": {
      "image/png": "[encoded data removed]",
      "text/plain": [
       "<Figure size 432x288 with 1 Axes>"
      ]
     },
     "metadata": {
      "needs_background": "light"
     },
     "output_type": "display_data"
    }
   ],
   "source": [
    "#繪製資料集做PCA前後的資料分佈\n",
    "plot(iris_X, iris_y, \"Original Iris Data\", \"sepal length (cm)\", \"sepal width (cm)\")\n",
    "plt.show()\n",
    "\n",
    "plot(pca.transform(iris_X), iris_y, \"Iris: Data projected onto first two PCA components\", \"PCA1\", \"PCA2\")"
   ]
  },
  {
   "cell_type": "markdown",
   "metadata": {},
   "source": [
    "> 做完PCA的資料點滿明確的有被分開"
   ]
  },
  {
   "cell_type": "code",
   "execution_count": 25,
   "metadata": {},
   "outputs": [
    {
     "data": {
      "text/plain": [
       "array([0.92461872, 0.05306648])"
      ]
     },
     "execution_count": 25,
     "metadata": {},
     "output_type": "execute_result"
    }
   ],
   "source": [
    "#提取每個主成分解釋的變異數量\n",
    "pca.explained_variance_ratio_"
   ]
  },
  {
   "cell_type": "markdown",
   "metadata": {},
   "source": [
    "## 主成分之間線性「無」關\n",
    "\n",
    "我們會希望所得到的所有「主成分」都是相互垂直(perpendicular)，意思就是彼此線性無關。我們將觀察原始四個特徵彼此之間的相關性以及做PCA後的「主成分」之間的相關性"
   ]
  },
  {
   "cell_type": "code",
   "execution_count": 26,
   "metadata": {},
   "outputs": [
    {
     "data": {
      "text/plain": [
       "array([[ 1.        , -0.11756978,  0.87175378,  0.81794113],\n",
       "       [-0.11756978,  1.        , -0.4284401 , -0.36612593],\n",
       "       [ 0.87175378, -0.4284401 ,  1.        ,  0.96286543],\n",
       "       [ 0.81794113, -0.36612593,  0.96286543,  1.        ]])"
      ]
     },
     "execution_count": 26,
     "metadata": {},
     "output_type": "execute_result"
    }
   ],
   "source": [
    "#原始相關性\n",
    "np.corrcoef(iris_X.T)"
   ]
  },
  {
   "cell_type": "code",
   "execution_count": 27,
   "metadata": {},
   "outputs": [
    {
     "data": {
      "text/plain": [
       "array([-0.11756978,  0.87175378,  0.81794113, -0.4284401 , -0.36612593])"
      ]
     },
     "execution_count": 27,
     "metadata": {},
     "output_type": "execute_result"
    }
   ],
   "source": [
    "#取對角線上的相關係數\n",
    "np.corrcoef(iris_X.T)[[0, 0, 0, 1, 1], [1, 2, 3, 2, 3]]"
   ]
  },
  {
   "cell_type": "code",
   "execution_count": 28,
   "metadata": {},
   "outputs": [
    {
     "data": {
      "text/plain": [
       "0.15551181623163549"
      ]
     },
     "execution_count": 28,
     "metadata": {},
     "output_type": "execute_result"
    }
   ],
   "source": [
    "#計算原始資料集的平均相關性\n",
    "np.corrcoef(iris_X.T)[[0, 0, 0, 1, 1], [1, 2, 3, 2, 3]].mean()\n",
    "\n",
    "#還是有相關"
   ]
  },
  {
   "cell_type": "code",
   "execution_count": 29,
   "metadata": {},
   "outputs": [
    {
     "data": {
      "text/plain": [
       "9.025738957470675e-16"
      ]
     },
     "execution_count": 29,
     "metadata": {},
     "output_type": "execute_result"
    }
   ],
   "source": [
    "#主成分相關性\n",
    "#取所有主成分\n",
    "full_pca = PCA(n_components=4)\n",
    "\n",
    "#擬合資料\n",
    "full_pca.fit(iris_X)\n",
    "\n",
    "pca_iris = full_pca.transform(iris_X)\n",
    "\n",
    "#計算平均相關係數\n",
    "np.corrcoef(pca_iris.T)[[0, 0, 0, 1, 1], [1, 2, 3, 2, 3]].mean()\n",
    "\n",
    "#非常接近零"
   ]
  },
  {
   "cell_type": "markdown",
   "metadata": {},
   "source": [
    "# PCA結論\n",
    "\n",
    "- 降低維度\n",
    "> PCA可以將「多個特徵」降低成少數個「主成分」，藉此加速訓練速度，且不受資料集以外的因素影響。維度減少也可以避免Overfitting問題。\n",
    "\n",
    "- 「主成分」間互相獨立\n",
    "> PCA的「主成分」之間都是垂直分布的，也就是兩者之間是無線性相關，解決了特徵之間互相影響的問題\n",
    "\n",
    "- 少量「主成分」就可以得到大部分的「特徵」資訊\n",
    "> 利用特徵值觀察主成分可以解釋多少資料的變異量，通常少量的主成分就可以解釋大部分的特徵所帶來的訊息"
   ]
  },
  {
   "cell_type": "code",
   "execution_count": null,
   "metadata": {},
   "outputs": [],
   "source": []
  }
 ],
 "metadata": {
  "kernelspec": {
   "display_name": "Python 3",
   "language": "python",
   "name": "python3"
  },
  "language_info": {
   "codemirror_mode": {
    "name": "ipython",
    "version": 3
   },
   "file_extension": ".py",
   "mimetype": "text/x-python",
   "name": "python",
   "nbconvert_exporter": "python",
   "pygments_lexer": "ipython3",
   "version": "3.8.5"
  }
 },
 "nbformat": 4,
 "nbformat_minor": 4
}
