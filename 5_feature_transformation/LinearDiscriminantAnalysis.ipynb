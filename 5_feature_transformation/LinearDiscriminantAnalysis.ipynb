{
 "cells": [
  {
   "cell_type": "markdown",
   "metadata": {},
   "source": [
    "# 線性判別分析(Linear Discriminant Analysis)\n",
    "\n",
    "屬於「監督式學習」的方法來做降維，會根據「反應變數」的類別來做學習。投影到特徵向量的資料點，「類別內」的離散程度要最小，也就是變異量要小；而「類別間」的離散程度要大，也就是變異量要大。如此就可以依據不同類別的學習，得到一個依據類別分類的特徵向量。藉此方法所獲得的「新坐標系」在為「分類模型」尋找「決策邊界」時更有用，非常適合建構分類管線。\n",
    "\n",
    "__LDA的步驟__\n",
    "1. 計算每個類別的平均值向量(mean vectors)\n",
    "2. 計算「類別內」與「類別間」的散佈矩陣(scatter matrix)\n",
    "3. 計算S_W^(-1) S_B的「特徵值」和「特徵向量」\n",
    "4. 降冪排列「特徵值」，保留「前k個特徵向量」\n",
    "5. 使用「前幾個特徵向量」將資料投影到新空間"
   ]
  },
  {
   "cell_type": "code",
   "execution_count": 1,
   "metadata": {},
   "outputs": [],
   "source": [
    "#載入資料\n",
    "from sklearn.datasets import load_iris\n",
    "import matplotlib.pyplot as plt\n",
    "%matplotlib inline"
   ]
  },
  {
   "cell_type": "code",
   "execution_count": 2,
   "metadata": {},
   "outputs": [
    {
     "name": "stdout",
     "output_type": "stream",
     "text": [
      "['sepal length (cm)', 'sepal width (cm)', 'petal length (cm)', 'petal width (cm)']\n",
      "['setosa' 'versicolor' 'virginica']\n"
     ]
    }
   ],
   "source": [
    "iris = load_iris()\n",
    "print(iris.feature_names)\n",
    "print(iris.target_names)\n",
    "\n",
    "#建立特徵與反應變數\n",
    "iris_X, iris_y = iris.data, iris.target"
   ]
  },
  {
   "cell_type": "code",
   "execution_count": 3,
   "metadata": {},
   "outputs": [],
   "source": [
    "import numpy as np"
   ]
  },
  {
   "cell_type": "markdown",
   "metadata": {},
   "source": [
    "## 1.計算每個類別的平均值向量(mean vectors)"
   ]
  },
  {
   "cell_type": "code",
   "execution_count": 4,
   "metadata": {},
   "outputs": [],
   "source": [
    "#建立依照類別index的dict，dict = {index:'花名'}\n",
    "label_dict = {i: k for i, k in enumerate(iris.target_names)}"
   ]
  },
  {
   "cell_type": "code",
   "execution_count": 5,
   "metadata": {},
   "outputs": [
    {
     "name": "stdout",
     "output_type": "stream",
     "text": [
      "setosa [5.006 3.428 1.462 0.246]\n",
      "versicolor [5.936 2.77  4.26  1.326]\n",
      "virginica [6.588 2.974 5.552 2.026]\n",
      "[array([5.006, 3.428, 1.462, 0.246]), array([5.936, 2.77 , 4.26 , 1.326]), array([6.588, 2.974, 5.552, 2.026])]\n"
     ]
    }
   ],
   "source": [
    "#將資料分成三種區塊，每一個區塊都代表著一種鳶尾花的類別\n",
    "\n",
    "mean_vectors = []\n",
    "for cl in [0, 1, 2]:\n",
    "    \n",
    "    #每一種花種類的各個特徵平均值\n",
    "    class_mean_vector = np.mean(iris_X[iris_y==cl], axis=0)\n",
    "    \n",
    "    mean_vectors.append(class_mean_vector)\n",
    "    print(label_dict[cl], class_mean_vector)\n",
    "    \n",
    "print(mean_vectors)"
   ]
  },
  {
   "cell_type": "markdown",
   "metadata": {},
   "source": [
    "## 2.計算「類別內」與「類別間」的散佈矩陣(scatter matrix)"
   ]
  },
  {
   "cell_type": "markdown",
   "metadata": {},
   "source": [
    "### 類別內散佈矩陣(a within-class scatter matrix)\n",
    "\n",
    "假設計算的是setosa種類的鳶尾花，是此種鳶尾花的資料的每一筆資料的各個特徵都會減掉該種類該特徵的平均值"
   ]
  },
  {
   "cell_type": "code",
   "execution_count": 6,
   "metadata": {},
   "outputs": [
    {
     "data": {
      "text/plain": [
       "array([[38.9562, 13.63  , 24.6246,  5.645 ],\n",
       "       [13.63  , 16.962 ,  8.1208,  4.8084],\n",
       "       [24.6246,  8.1208, 27.2226,  6.2718],\n",
       "       [ 5.645 ,  4.8084,  6.2718,  6.1566]])"
      ]
     },
     "execution_count": 6,
     "metadata": {},
     "output_type": "execute_result"
    }
   ],
   "source": [
    "S_W = np.zeros((4,4))\n",
    "\n",
    "#對於每一種鳶尾花\n",
    "for cl, mv in zip([0, 1, 2], mean_vectors):\n",
    "    \n",
    "    #從0開始，每個類別的散佈矩陣\n",
    "    class_sc_mat = np.zeros((4,4))\n",
    "    \n",
    "    #對於每個樣本\n",
    "    for row in iris_X[iris_y==cl]:\n",
    "        \n",
    "        #行向量，轉換成可以相乘的格式\n",
    "        row, mv = row.reshape(4,1), mv.reshape(4,1)\n",
    "        #4 X 4的矩陣\n",
    "        class_sc_mat += (row-mv).dot((row-mv).T)\n",
    "        \n",
    "    S_W += class_sc_mat\n",
    "    \n",
    "S_W"
   ]
  },
  {
   "cell_type": "markdown",
   "metadata": {},
   "source": [
    "### 類別間的散佈矩陣(a between-class scatter matrix)\n",
    "\n",
    "每個類別的樣本平均值減掉總體平均值"
   ]
  },
  {
   "cell_type": "code",
   "execution_count": 7,
   "metadata": {},
   "outputs": [
    {
     "data": {
      "text/plain": [
       "array([[5.84333333],\n",
       "       [3.05733333],\n",
       "       [3.758     ],\n",
       "       [1.19933333]])"
      ]
     },
     "execution_count": 7,
     "metadata": {},
     "output_type": "execute_result"
    }
   ],
   "source": [
    "#計算總體平均值\n",
    "overall_mean = np.mean(iris_X, axis=0).reshape(4,1)\n",
    "overall_mean"
   ]
  },
  {
   "cell_type": "code",
   "execution_count": 8,
   "metadata": {},
   "outputs": [
    {
     "data": {
      "text/plain": [
       "array([[ 63.21213333, -19.95266667, 165.2484    ,  71.27933333],\n",
       "       [-19.95266667,  11.34493333, -57.2396    , -22.93266667],\n",
       "       [165.2484    , -57.2396    , 437.1028    , 186.774     ],\n",
       "       [ 71.27933333, -22.93266667, 186.774     ,  80.41333333]])"
      ]
     },
     "execution_count": 8,
     "metadata": {},
     "output_type": "execute_result"
    }
   ],
   "source": [
    "S_B = np.zeros((4,4))\n",
    "for i, mean_vec in enumerate(mean_vectors):\n",
    "    #計算每一種花類別的數量\n",
    "    n = iris_X[iris_y==i,:].shape[0]\n",
    "    \n",
    "    #每一種花的行向量\n",
    "    mean_vec = mean_vec.reshape(4,1)\n",
    "    \n",
    "    S_B += n * (mean_vec - overall_mean).dot((mean_vec - overall_mean).T)\n",
    "    \n",
    "S_B"
   ]
  },
  {
   "cell_type": "markdown",
   "metadata": {},
   "source": [
    "## 3.計算S_W^(-1) S_B的「特徵值」和「特徵向量」"
   ]
  },
  {
   "cell_type": "code",
   "execution_count": 9,
   "metadata": {},
   "outputs": [
    {
     "name": "stdout",
     "output_type": "stream",
     "text": [
      "Eigenvector 1: [ 0.20874182  0.38620369 -0.55401172 -0.7073504 ]\n",
      "Eigenvalue 1: 32.19192919827803\n",
      "\n",
      "Eigenvector 2: [-0.00653196 -0.58661055  0.25256154 -0.76945309]\n",
      "Eigenvalue 2: 0.28539104262306414\n",
      "\n",
      "Eigenvector 3: [ 0.88513899 -0.29455053 -0.27255052 -0.23555291]\n",
      "Eigenvalue 3: 3.5296362660244315e-15\n",
      "\n",
      "Eigenvector 4: [-0.80593687  0.40432808  0.41273963 -0.12895956]\n",
      "Eigenvalue 4: 3.17116800810927e-17\n",
      "\n"
     ]
    }
   ],
   "source": [
    "#計算矩陣的特徵值和特徵向量\n",
    "eig_vals, eig_vecs = np.linalg.eig(np.dot(np.linalg.inv(S_W), S_B))\n",
    "eig_vecs = eig_vecs.real\n",
    "eig_vals = eig_vals.real\n",
    "\n",
    "for i in range(len(eig_vals)):\n",
    "    eigvec_sc = eig_vecs[:, i]\n",
    "    print('Eigenvector {}: {}'.format(i+1, eigvec_sc))\n",
    "    print('Eigenvalue {:}: {}'.format(i+1, eig_vals[i]))\n",
    "    print()"
   ]
  },
  {
   "cell_type": "markdown",
   "metadata": {},
   "source": [
    "> 可以注意到第三個和第四個的特徵值__幾乎為0__，是因為LDA是依照「類別間」來劃分「決策邊界」。此資料集只有3個類別，所以只需要2個決策邊界就可以劃分。一般來說，用LDA擬合n個類別的資料集，最多需要n-1次切割。"
   ]
  },
  {
   "cell_type": "markdown",
   "metadata": {},
   "source": [
    "## 4.降冪排列特徵值，保留前k個特徵向量"
   ]
  },
  {
   "cell_type": "code",
   "execution_count": 10,
   "metadata": {},
   "outputs": [
    {
     "data": {
      "text/plain": [
       "array([[ 0.20874182,  0.38620369, -0.55401172, -0.7073504 ],\n",
       "       [-0.00653196, -0.58661055,  0.25256154, -0.76945309]])"
      ]
     },
     "execution_count": 10,
     "metadata": {},
     "output_type": "execute_result"
    }
   ],
   "source": [
    "#保留兩個最好的線性判別式\n",
    "linear_discriminants = eig_vecs.T[:2]\n",
    "linear_discriminants"
   ]
  },
  {
   "cell_type": "code",
   "execution_count": 11,
   "metadata": {},
   "outputs": [
    {
     "data": {
      "text/plain": [
       "array([9.91212605e-01, 8.78739503e-03, 1.08680034e-16, 9.76425390e-19])"
      ]
     },
     "execution_count": 11,
     "metadata": {},
     "output_type": "execute_result"
    }
   ],
   "source": [
    "#計算每個判別式解釋總變異數的比例\n",
    "eig_vals / eig_vals.sum()"
   ]
  },
  {
   "cell_type": "markdown",
   "metadata": {},
   "source": [
    "> 「第一個判別式」就做了絕大部分的工作，擁有超過99%的資訊"
   ]
  },
  {
   "cell_type": "markdown",
   "metadata": {},
   "source": [
    "## 5.使用「前幾個特徵向量」將資料投影到新空間"
   ]
  },
  {
   "cell_type": "code",
   "execution_count": 12,
   "metadata": {},
   "outputs": [
    {
     "data": {
      "text/plain": [
       "array([[ 1.49920971, -1.88675441],\n",
       "       [ 1.2643595 , -1.59214275],\n",
       "       [ 1.35525305, -1.73341462],\n",
       "       [ 1.18495616, -1.62358806],\n",
       "       [ 1.5169559 , -1.94476227]])"
      ]
     },
     "execution_count": 12,
     "metadata": {},
     "output_type": "execute_result"
    }
   ],
   "source": [
    "#LDA投影資料\n",
    "lda_iris_projection = np.dot(iris_X, linear_discriminants.T)\n",
    "lda_iris_projection[:5,]"
   ]
  },
  {
   "cell_type": "code",
   "execution_count": 13,
   "metadata": {},
   "outputs": [],
   "source": [
    "#繪圖function\n",
    "def plot(X, y, title, x_label, y_label):\n",
    "    ax = plt.subplot(111)\n",
    "    \n",
    "    for label, marker, color in zip(range(3), ('^', 's', 'o'), ('blue', 'red', 'green')):\n",
    "        plt.scatter(x=X[:, 0].real[y == label],\n",
    "                   y=X[:,1].real[y == label],\n",
    "                   color=color,\n",
    "                   alpha=0.5,\n",
    "                   label=label_dict[label])\n",
    "        \n",
    "        plt.xlabel(x_label)\n",
    "        plt.ylabel(y_label)\n",
    "        \n",
    "        leg = plt.legend(loc='upper right', fancybox=True)\n",
    "        leg.get_frame().set_alpha(0.5)\n",
    "        plt.title(title)"
   ]
  },
  {
   "cell_type": "code",
   "execution_count": 14,
   "metadata": {},
   "outputs": [
    {
     "data": {
      "image/png": "[encoded data removed]",
      "text/plain": [
       "<Figure size 432x288 with 1 Axes>"
      ]
     },
     "metadata": {
      "needs_background": "light"
     },
     "output_type": "display_data"
    }
   ],
   "source": [
    "plot(lda_iris_projection, iris_y, \"LDA Projection\", \"LDA1\", \"LDA2\")"
   ]
  },
  {
   "cell_type": "markdown",
   "metadata": {},
   "source": [
    "## scikit-learn中使用LDA\n",
    "與PCA不同，LDA是依照反應變數去做降為，所以在fit時需要輸入反應變數"
   ]
  },
  {
   "cell_type": "code",
   "execution_count": 15,
   "metadata": {},
   "outputs": [],
   "source": [
    "from sklearn.discriminant_analysis import LinearDiscriminantAnalysis"
   ]
  },
  {
   "cell_type": "code",
   "execution_count": 16,
   "metadata": {},
   "outputs": [],
   "source": [
    "lda = LinearDiscriminantAnalysis(n_components=2)"
   ]
  },
  {
   "cell_type": "code",
   "execution_count": 17,
   "metadata": {},
   "outputs": [],
   "source": [
    "X_lda_iris = lda.fit_transform(iris_X, iris_y)"
   ]
  },
  {
   "cell_type": "code",
   "execution_count": 18,
   "metadata": {},
   "outputs": [
    {
     "data": {
      "image/png": "[encoded data removed]",
      "text/plain": [
       "<Figure size 432x288 with 1 Axes>"
      ]
     },
     "metadata": {
      "needs_background": "light"
     },
     "output_type": "display_data"
    }
   ],
   "source": [
    "#繪製投影資料\n",
    "plot(X_lda_iris, iris_y, \"LDA Projection\", \"LDA1\", \"LDA2\")"
   ]
  },
  {
   "cell_type": "code",
   "execution_count": 19,
   "metadata": {},
   "outputs": [
    {
     "data": {
      "text/plain": [
       "array([[ 0.82937764,  0.02410215],\n",
       "       [ 1.53447307,  2.16452123],\n",
       "       [-2.20121166, -0.93192121],\n",
       "       [-2.81046031,  2.83918785]])"
      ]
     },
     "execution_count": 19,
     "metadata": {},
     "output_type": "execute_result"
    }
   ],
   "source": [
    "#lda的scalings_與pca的components_一樣，都是看特徵向量\n",
    "lda.scalings_"
   ]
  },
  {
   "cell_type": "code",
   "execution_count": 20,
   "metadata": {},
   "outputs": [
    {
     "data": {
      "text/plain": [
       "array([0.9912126, 0.0087874])"
      ]
     },
     "execution_count": 20,
     "metadata": {},
     "output_type": "execute_result"
    }
   ],
   "source": [
    "#觀察特徵值\n",
    "lda.explained_variance_ratio_"
   ]
  },
  {
   "cell_type": "code",
   "execution_count": null,
   "metadata": {},
   "outputs": [],
   "source": []
  }
 ],
 "metadata": {
  "kernelspec": {
   "display_name": "Python 3",
   "language": "python",
   "name": "python3"
  },
  "language_info": {
   "codemirror_mode": {
    "name": "ipython",
    "version": 3
   },
   "file_extension": ".py",
   "mimetype": "text/x-python",
   "name": "python",
   "nbconvert_exporter": "python",
   "pygments_lexer": "ipython3",
   "version": "3.8.5"
  }
 },
 "nbformat": 4,
 "nbformat_minor": 4
}
